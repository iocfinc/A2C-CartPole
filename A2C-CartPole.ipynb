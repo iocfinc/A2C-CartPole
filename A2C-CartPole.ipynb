{
 "cells": [
  {
   "cell_type": "markdown",
   "metadata": {},
   "source": [
    "# A2C - CartPole Agent\n",
    "\n",
    "This is an implementation of an _Advantage Actor-Critic method_ for solving the CartPole environment in OpenAI gym. Resource for this one is [the RLcode repo](https://github.com/rlcode/reinforcement-learning/blob/master/2-cartpole/4-actor-critic/cartpole_a2c.py). This is created so that we can see how to code an A2C agent and learn the basics first on what the general idea for the architecture is before applying it to more complex tasks."
   ]
  },
  {
   "cell_type": "code",
   "execution_count": 1,
   "metadata": {},
   "outputs": [
    {
     "name": "stderr",
     "output_type": "stream",
     "text": [
      "C:\\Users\\icfernando\\AppData\\Local\\Continuum\\anaconda3\\lib\\site-packages\\h5py\\__init__.py:36: FutureWarning: Conversion of the second argument of issubdtype from `float` to `np.floating` is deprecated. In future, it will be treated as `np.float64 == np.dtype(float).type`.\n",
      "  from ._conv import register_converters as _register_converters\n",
      "Using TensorFlow backend.\n"
     ]
    }
   ],
   "source": [
    "'''\n",
    "NOTE:\n",
    "This is an implementation of the Advantage actor-critic agent for Cartpole.\n",
    "The main source for this one would be in this repo: https://github.com/rlcode/reinforcement-learning/blob/master/2-cartpole/4-actor-critic/cartpole_a2c.py\n",
    "This was done by rlcode guys, similar to the one that gave us DQN-Cartpole earlier.\n",
    "'''\n",
    "\n",
    "# Import dependencies\n",
    "\n",
    "import sys\n",
    "import gym\n",
    "import pylab\n",
    "import numpy as np\n",
    "from keras.layers import Dense\n",
    "from keras.models import Sequential\n",
    "from keras.optimizers import Adam"
   ]
  },
  {
   "cell_type": "markdown",
   "metadata": {},
   "source": [
    "For the next step we will create the agent that we will be using. It will contain the functions for creating the model for both actor and critic. It will also include the function for the training as well as the function for getting the action."
   ]
  },
  {
   "cell_type": "code",
   "execution_count": 16,
   "metadata": {},
   "outputs": [],
   "source": [
    "#NOTE: Start of the Cartpole Agent using A2C (Advantage Actor-Critic)\n",
    "class A2CAgent:\n",
    "    def __init__(self, state_size, action_size,nodes):\n",
    "        self.render = False # For rendering the cartpole model\n",
    "        self.load_model = False # Set if you want to load a previous checkpoint\n",
    "        self.state_size = state_size\n",
    "        self.action_size = action_size\n",
    "        self.value_size = 1\n",
    "        self.nodes = nodes\n",
    "\n",
    "        # Policy Gradient hyperparameters\n",
    "        # NOTE: Read more on Policy Gradient\n",
    "\n",
    "        self.discount_factor = 0.99 # For the entire update statement\n",
    "        self.actor_lr = 0.001 # For the Optimizer of Actor\n",
    "        self.critic_lr = 0.005 # Why is it higher? For stability?\n",
    "\n",
    "        # Call the building blocks\n",
    "        self.actor = self.build_actor()\n",
    "        self.critic = self.build_critic()\n",
    "\n",
    "        # Check if we need to load a model\n",
    "        if self.load_model:\n",
    "            self.actor.load_weights(\"./save_model/cartpole_actor.h5\")\n",
    "            self.critic.load_weights(\"./save_model/cartpole_critic.h5\")\n",
    "    # We then create the Neural Network for the approximation of the actor and critic values\n",
    "    # i.e. policy and value for the model.\n",
    "\n",
    "    # NOTE: Actor module: Input of states and outputs the probability of an action (softmax)\n",
    "    def build_actor(self):\n",
    "        actor = Sequential() # Define our model\n",
    "        actor.add(Dense(self.nodes , input_dim = self.state_size, activation= 'relu', kernel_initializer= 'he_uniform'))\n",
    "        actor.add(Dense(self.action_size, activation='softmax',kernel_initializer='he_uniform'))\n",
    "        actor.summary()\n",
    "        actor.compile(loss = 'categorical_crossentropy', optimizer = Adam(lr = self.actor_lr))\n",
    "        return actor\n",
    "    # NOTE: Critic module: Input is also state but the output is also state(linear)\n",
    "    def build_critic(self):\n",
    "        critic = Sequential()\n",
    "        critic.add(Dense(self.nodes, input_dim = self.state_size, activation= 'relu', kernel_initializer= 'he_uniform'))\n",
    "        critic.add(Dense(self.value_size,activation= 'linear', kernel_initializer= 'he_uniform'))\n",
    "        critic.summary()\n",
    "        critic.compile(loss = 'mse', optimizer= Adam(lr=self.critic_lr))# Loss is MSE since we want to give out a value and not a probability.\n",
    "        return critic\n",
    "    # NOTE: We do the function on how the agent will pick the next action and policy based on stochastics(probability)\n",
    "    def get_action(self,state):\n",
    "        policy = self.actor.predict(state,batch_size=1).flatten()\n",
    "        return np.random.choice(self.action_size,1,p=policy)[0]\n",
    "    # NOTE: We do the update for the network policy.\n",
    "    def train_model(self, state, action, reward, next_state, done):\n",
    "        target = np.zeros((1,self.value_size)) # Initialize the policy targets matrix\n",
    "        advantages = np.zeros((1,self.action_size)) # Initialize the advantages matrix\n",
    "\n",
    "        value = self.critic.predict(state)[0] # Get value for this state\n",
    "        next_value = self.critic.predict(next_state)[0] # Get value for the next state\n",
    "\n",
    "        # update the advantages and value tables if done\n",
    "        if done:\n",
    "            advantages[0][action] = reward - value # Basically, what do we gain by choosing the action, will it improve or worsen the advantage\n",
    "            target[0][0] = reward # Fill in the target value to see if we can still improve it in the policy making\n",
    "        else:\n",
    "            advantages[0][action] = reward + self.discount_factor*(next_value) - value # If not yet done, then simply update for the current step.\n",
    "            target[0][0] = reward + self.discount_factor*next_value\n",
    "        # Once we are done with the episode, we then update the weights\n",
    "        self.actor.fit(state,advantages,epochs=1,verbose=0)\n",
    "        self.critic.fit(state,target,epochs=1,verbose=0)"
   ]
  },
  {
   "cell_type": "markdown",
   "metadata": {},
   "source": [
    "Fir the next section, we are creating a class for our training module. In the original source, this was simply run as is but in my case I wanted to reuse it to experiment on the effects of the number of nodes. We can actually edit this class so that you can specify everything for the agent like the lr for the actor and the critic, the discount factor as well. Also, you can actually define how many episodes you might want to train."
   ]
  },
  {
   "cell_type": "code",
   "execution_count": 29,
   "metadata": {},
   "outputs": [],
   "source": [
    "class A2C_train:\n",
    "    def __init__(self, episodes,nodes):\n",
    "        self.Episodes = episodes\n",
    "        self.nodes = nodes\n",
    "        if __name__ == '__main__':\n",
    "            # TODO: Create an environment\n",
    "            env = gym.make('CartPole-v1')\n",
    "            # TODO: Get the action and state sizes\n",
    "            state_size = env.observation_space.shape[0]\n",
    "            action_size = env.action_space.n\n",
    "            # TODO: Make the agent by calling the function earlier\n",
    "            agent = A2CAgent(state_size,action_size,self.nodes)\n",
    "            # TODO: Initialize our scores and episodes list\n",
    "            scores, episodes = [], []\n",
    "\n",
    "            # TODO: Create the training loop\n",
    "            for e in range(self.Episodes):\n",
    "                done = False\n",
    "                score = 0\n",
    "                state = env.reset()\n",
    "                state = np.reshape(state,[1,state_size])\n",
    "\n",
    "                while not done:\n",
    "                    # Check if we want to render\n",
    "                    if agent.render:\n",
    "                        env.render()\n",
    "                    action = agent.get_action(state)\n",
    "                    next_state, reward, done, info = env.step(action)\n",
    "                    next_state = np.reshape(next_state,[1,state_size])\n",
    "                    # Give immediate penalty for an action that terminates the episode immediately, Since we want to maximize the time\n",
    "                    # Note that the max for the cartpole is 499 and it will reset, otherwise we keep the current score if it is not yet done, and if it ended we give a -100 reward\n",
    "                    reward = reward if not done or score == 499 else -100\n",
    "                    # We now train the model based on the results of our action taken\n",
    "                    agent.train_model(state,action,reward,next_state,done)\n",
    "                    score += reward\n",
    "                    state = next_state\n",
    "\n",
    "                    if done:\n",
    "                        score = score if score == 500.0 else score +100\n",
    "                        scores.append(score)\n",
    "                        episodes.append(e)\n",
    "                        pylab.plot(episodes,scores,'b')\n",
    "                        pylab.savefig(\"./save_graph/A2C-CartPole.png\")\n",
    "                        if np.mean(scores[-min(10, len(scores)):]) > 490:\n",
    "                            sys.exit()\n",
    "                if e % 50 ==0:\n",
    "                    agent.actor.save_weights(\"./save_model/cartpole_actor.h5\")\n",
    "                    agent.critic.save_weights(\"./save_model/cartpole_critic.h5\")   \n",
    "                    print(\"episode: {} score: {}\".format(e,score))"
   ]
  },
  {
   "cell_type": "markdown",
   "metadata": {},
   "source": [
    "## Results\n",
    "\n",
    "For the next sections we just check the results of the agent from the original 24 nodes, a very small 8 nodes and a very large 64 node NN. For the results, we refer to the original 24 node agent as the baseline. Note: I ran the original notebook at 1000 episodes but for this one it is set at 250 just to show that the model does train."
   ]
  },
  {
   "cell_type": "code",
   "execution_count": 31,
   "metadata": {
    "scrolled": false
   },
   "outputs": [
    {
     "name": "stdout",
     "output_type": "stream",
     "text": [
      "_________________________________________________________________\n",
      "Layer (type)                 Output Shape              Param #   \n",
      "=================================================================\n",
      "dense_41 (Dense)             (None, 24)                120       \n",
      "_________________________________________________________________\n",
      "dense_42 (Dense)             (None, 2)                 50        \n",
      "=================================================================\n",
      "Total params: 170\n",
      "Trainable params: 170\n",
      "Non-trainable params: 0\n",
      "_________________________________________________________________\n",
      "_________________________________________________________________\n",
      "Layer (type)                 Output Shape              Param #   \n",
      "=================================================================\n",
      "dense_43 (Dense)             (None, 24)                120       \n",
      "_________________________________________________________________\n",
      "dense_44 (Dense)             (None, 1)                 25        \n",
      "=================================================================\n",
      "Total params: 145\n",
      "Trainable params: 145\n",
      "Non-trainable params: 0\n",
      "_________________________________________________________________\n",
      "episode: 0 score: 24.0\n",
      "episode: 50 score: 17.0\n",
      "episode: 100 score: 50.0\n",
      "episode: 150 score: 75.0\n",
      "episode: 200 score: 46.0\n"
     ]
    },
    {
     "data": {
      "text/plain": [
       "<__main__.A2C_train at 0x278b02ad9b0>"
      ]
     },
     "execution_count": 31,
     "metadata": {},
     "output_type": "execute_result"
    },
    {
     "data": {
      "image/png": "[encoded data removed]",
      "text/plain": [
       "<Figure size 432x288 with 1 Axes>"
      ]
     },
     "metadata": {},
     "output_type": "display_data"
    }
   ],
   "source": [
    "A2C_train(250,24)"
   ]
  },
  {
   "cell_type": "code",
   "execution_count": 33,
   "metadata": {},
   "outputs": [
    {
     "name": "stdout",
     "output_type": "stream",
     "text": [
      "_________________________________________________________________\n",
      "Layer (type)                 Output Shape              Param #   \n",
      "=================================================================\n",
      "dense_49 (Dense)             (None, 8)                 40        \n",
      "_________________________________________________________________\n",
      "dense_50 (Dense)             (None, 2)                 18        \n",
      "=================================================================\n",
      "Total params: 58\n",
      "Trainable params: 58\n",
      "Non-trainable params: 0\n",
      "_________________________________________________________________\n",
      "_________________________________________________________________\n",
      "Layer (type)                 Output Shape              Param #   \n",
      "=================================================================\n",
      "dense_51 (Dense)             (None, 8)                 40        \n",
      "_________________________________________________________________\n",
      "dense_52 (Dense)             (None, 1)                 9         \n",
      "=================================================================\n",
      "Total params: 49\n",
      "Trainable params: 49\n",
      "Non-trainable params: 0\n",
      "_________________________________________________________________\n",
      "episode: 0 score: 23.0\n",
      "episode: 50 score: 16.0\n",
      "episode: 100 score: 9.0\n",
      "episode: 150 score: 85.0\n",
      "episode: 200 score: 74.0\n"
     ]
    },
    {
     "data": {
      "text/plain": [
       "<__main__.A2C_train at 0x278ad571208>"
      ]
     },
     "execution_count": 33,
     "metadata": {},
     "output_type": "execute_result"
    },
    {
     "data": {
      "image/png": "[encoded data removed]",
      "text/plain": [
       "<Figure size 432x288 with 1 Axes>"
      ]
     },
     "metadata": {},
     "output_type": "display_data"
    }
   ],
   "source": [
    "A2C_train(250,8)"
   ]
  },
  {
   "cell_type": "code",
   "execution_count": 32,
   "metadata": {
    "scrolled": false
   },
   "outputs": [
    {
     "name": "stdout",
     "output_type": "stream",
     "text": [
      "_________________________________________________________________\n",
      "Layer (type)                 Output Shape              Param #   \n",
      "=================================================================\n",
      "dense_45 (Dense)             (None, 64)                320       \n",
      "_________________________________________________________________\n",
      "dense_46 (Dense)             (None, 2)                 130       \n",
      "=================================================================\n",
      "Total params: 450\n",
      "Trainable params: 450\n",
      "Non-trainable params: 0\n",
      "_________________________________________________________________\n",
      "_________________________________________________________________\n",
      "Layer (type)                 Output Shape              Param #   \n",
      "=================================================================\n",
      "dense_47 (Dense)             (None, 64)                320       \n",
      "_________________________________________________________________\n",
      "dense_48 (Dense)             (None, 1)                 65        \n",
      "=================================================================\n",
      "Total params: 385\n",
      "Trainable params: 385\n",
      "Non-trainable params: 0\n",
      "_________________________________________________________________\n",
      "episode: 0 score: 15.0\n",
      "episode: 50 score: 32.0\n",
      "episode: 100 score: 75.0\n",
      "episode: 150 score: 122.0\n",
      "episode: 200 score: 95.0\n"
     ]
    },
    {
     "data": {
      "text/plain": [
       "<__main__.A2C_train at 0x278ad5132e8>"
      ]
     },
     "execution_count": 32,
     "metadata": {},
     "output_type": "execute_result"
    },
    {
     "data": {
      "image/png": "[encoded data removed]",
      "text/plain": [
       "<Figure size 432x288 with 1 Axes>"
      ]
     },
     "metadata": {},
     "output_type": "display_data"
    }
   ],
   "source": [
    "A2C_train(250,64)"
   ]
  },
  {
   "cell_type": "markdown",
   "metadata": {},
   "source": [
    "Note that the runtime for the 8 node agent will be quite long compared to the original 24 node agent. For the 64 node agent, it is also long. In theory it should be much longer than the 8 node but it does make up for it in the fact that it can actually get to the solution faster and be able to remember it. This is based on the graph results. If we look at the 24 node we can see the volatility although the trend is still increasing. For the 64 node, we can already see it peaking and maintaining it for some runs. While for the 8 node, it is just noisy and the trend is rather flat. The question now is why is it that the agent still gets erratic behaviour instead of a general solution? That is because we are using a stochastic approach for the implementation. If you look at the code, we used random choice with probability set as the policy. We are non-deterministic in a sense that we do not hardcode our policy so there will always be a time where our agent will try to do a weird move. This is in line with the exploration vs. exploitation method."
   ]
  }
 ],
 "metadata": {
  "kernelspec": {
   "display_name": "Python [conda env:anaconda3]",
   "language": "python",
   "name": "conda-env-anaconda3-py"
  },
  "language_info": {
   "codemirror_mode": {
    "name": "ipython",
    "version": 3
   },
   "file_extension": ".py",
   "mimetype": "text/x-python",
   "name": "python",
   "nbconvert_exporter": "python",
   "pygments_lexer": "ipython3",
   "version": "3.6.6"
  }
 },
 "nbformat": 4,
 "nbformat_minor": 2
}
